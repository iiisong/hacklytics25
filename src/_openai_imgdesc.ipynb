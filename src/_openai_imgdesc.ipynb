{
 "cells": [
  {
   "cell_type": "code",
   "execution_count": 63,
   "metadata": {},
   "outputs": [],
   "source": [
    "import openai\n",
    "\n",
    "import dotenv\n",
    "import os\n",
    "\n",
    "import base64"
   ]
  },
  {
   "cell_type": "code",
   "execution_count": 64,
   "metadata": {},
   "outputs": [
    {
     "data": {
      "text/plain": [
       "True"
      ]
     },
     "execution_count": 64,
     "metadata": {},
     "output_type": "execute_result"
    }
   ],
   "source": [
    "dotenv.load_dotenv()"
   ]
  },
  {
   "cell_type": "code",
   "execution_count": 65,
   "metadata": {},
   "outputs": [],
   "source": [
    "def encode_image(image_path: str) -> str:\n",
    "    with open(image_path, \"rb\") as image_file:\n",
    "        return base64.b64encode(image_file.read()).decode(\"utf-8\")"
   ]
  },
  {
   "cell_type": "code",
   "execution_count": 66,
   "metadata": {},
   "outputs": [],
   "source": [
    "openai.api_key = os.getenv(\"OPENAI_API_KEY\")\n",
    "\n",
    "if not openai.api_key:\n",
    "    raise Exception(\"API key is required\")"
   ]
  },
  {
   "cell_type": "code",
   "execution_count": 67,
   "metadata": {},
   "outputs": [
    {
     "data": {
      "text/plain": [
       "'png'"
      ]
     },
     "execution_count": 67,
     "metadata": {},
     "output_type": "execute_result"
    }
   ],
   "source": [
    "input_image_path = \"input_img.png\"\n",
    "base64_image = encode_image(input_image_path)\n",
    "image_data_url = f\"data:image/{input_image_path.split('.')[-1]};base64,{base64_image}\"\n",
    "\n",
    "input_image_path.split('.')[-1]"
   ]
  },
  {
   "cell_type": "code",
   "execution_count": 68,
   "metadata": {},
   "outputs": [],
   "source": [
    "messages = [\n",
    "    {\n",
    "        \"role\": \"system\",\n",
    "        \"content\": \"You are a helpful and direct object identification assistant, focused on identifying objects in images of rooms.\"\n",
    "    },\n",
    "    {\n",
    "        \"role\": \"user\",\n",
    "        \"content\": [\n",
    "            {\n",
    "                \"type\": \"text\",\n",
    "                \"text\": \"\"\"\n",
    "                    Please identify all the furniture and decoration items in this room and return a list of them, their locations in the \n",
    "                    room relative to the camera, and their orientations. Be detailed regarding their locations and orientations. Provide \n",
    "                    them in the following format:\n",
    "                    [Item: Item, Location: Location, Orientation: Orientation]\n",
    "                \"\"\"\n",
    "            },\n",
    "            {\n",
    "                \"type\": \"image_url\",\n",
    "                \"image_url\": {\"url\": image_data_url}\n",
    "            }\n",
    "        ]\n",
    "    }\n",
    "]"
   ]
  },
  {
   "cell_type": "code",
   "execution_count": 69,
   "metadata": {},
   "outputs": [
    {
     "data": {
      "text/plain": [
       "ChatCompletion(id='chatcmpl-B3unzamURxhUA8HbVIk41IEPcsi8b', choices=[Choice(finish_reason='stop', index=0, logprobs=None, message=ChatCompletionMessage(content='[Item: Bed, Location: Left side against the wall, Orientation: Headboard toward the back wall]\\n\\n[Item: Chair, Location: Left foreground, Orientation: Backrest facing the bed]\\n\\n[Item: Dresser with Shelves, Location: Right side against the wall, Orientation: Drawers facing the camera]\\n\\n[Item: Trash Bin, Location: Right next to the dresser, Orientation: Open top facing upwards]\\n\\n[Item: Window, Location: Center of the back wall, Orientation: Vertical]', refusal=None, role='assistant', audio=None, function_call=None, tool_calls=None))], created=1740273043, model='gpt-4o-2024-08-06', object='chat.completion', service_tier='default', system_fingerprint='fp_197415291b', usage=CompletionUsage(completion_tokens=104, prompt_tokens=1247, total_tokens=1351, completion_tokens_details=CompletionTokensDetails(accepted_prediction_tokens=0, audio_tokens=0, reasoning_tokens=0, rejected_prediction_tokens=0), prompt_tokens_details=PromptTokensDetails(audio_tokens=0, cached_tokens=0)))"
      ]
     },
     "execution_count": 69,
     "metadata": {},
     "output_type": "execute_result"
    }
   ],
   "source": [
    "response = openai.chat.completions.create(\n",
    "    model=\"gpt-4o\",\n",
    "    messages=messages,\n",
    "    max_tokens=150\n",
    ")\n",
    "response"
   ]
  },
  {
   "cell_type": "code",
   "execution_count": 70,
   "metadata": {},
   "outputs": [
    {
     "name": "stdout",
     "output_type": "stream",
     "text": [
      "[Item: Bed, Location: Left side against the wall, Orientation: Headboard toward the back wall]\n",
      "\n",
      "[Item: Chair, Location: Left foreground, Orientation: Backrest facing the bed]\n",
      "\n",
      "[Item: Dresser with Shelves, Location: Right side against the wall, Orientation: Drawers facing the camera]\n",
      "\n",
      "[Item: Trash Bin, Location: Right next to the dresser, Orientation: Open top facing upwards]\n",
      "\n",
      "[Item: Window, Location: Center of the back wall, Orientation: Vertical]\n"
     ]
    }
   ],
   "source": [
    "print(response.choices[0].message.content)"
   ]
  },
  {
   "cell_type": "code",
   "execution_count": null,
   "metadata": {},
   "outputs": [],
   "source": []
  }
 ],
 "metadata": {
  "kernelspec": {
   "display_name": "hack25",
   "language": "python",
   "name": "python3"
  },
  "language_info": {
   "codemirror_mode": {
    "name": "ipython",
    "version": 3
   },
   "file_extension": ".py",
   "mimetype": "text/x-python",
   "name": "python",
   "nbconvert_exporter": "python",
   "pygments_lexer": "ipython3",
   "version": "3.12.9"
  }
 },
 "nbformat": 4,
 "nbformat_minor": 2
}
