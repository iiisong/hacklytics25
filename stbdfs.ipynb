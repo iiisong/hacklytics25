{
 "cells": [
  {
   "cell_type": "code",
   "execution_count": 79,
   "metadata": {},
   "outputs": [],
   "source": [
    "import replicate\n",
    "from datetime import datetime\n",
    "from os.path import join\n",
    "import os"
   ]
  },
  {
   "cell_type": "code",
   "execution_count": 80,
   "metadata": {},
   "outputs": [],
   "source": [
    "output_folder_path = \"output/\"\n",
    "output_basename = \"replicate_output {date}.png\"\n",
    "\n",
    "date_str = datetime.now().strftime(\"%Y-%m-%d %H-%M-%S\")\n",
    "\n",
    "output_path = join(output_folder_path, output_basename.format(date=date_str))"
   ]
  },
  {
   "cell_type": "code",
   "execution_count": 81,
   "metadata": {},
   "outputs": [],
   "source": [
    "input_img_path = \"input_img.png\"\n",
    "prompt = 'Decorate this college dorm for a freshman student. Make it cozy and welcoming. Make sure all furniture currently in the image remains. The student is a musician.'"
   ]
  },
  {
   "cell_type": "code",
   "execution_count": 82,
   "metadata": {},
   "outputs": [],
   "source": [
    "# image_base = \"https://replicate.delivery/pbxt/L71nWgMUQvH7zKHG3U9YYdfREv1ybOfO1Q5ntak3YmUJizSR/image_0.jpg\"\n",
    "\n",
    "if not input_img_path :\n",
    "    raise ValueError(\"Please provide an input image path\")\n",
    "\n",
    "if not os.path.exists(output_folder_path):\n",
    "    os.makedirs(output_folder_path)"
   ]
  },
  {
   "cell_type": "code",
   "execution_count": 83,
   "metadata": {},
   "outputs": [],
   "source": [
    "with open(input_img_path, \"rb\") as f:\n",
    "    output = None\n",
    "    input = {\n",
    "        \"prompt\": prompt,\n",
    "        \"image_base\": f\n",
    "    }\n",
    "\n",
    "    output = replicate.run(\n",
    "        \"melgor/stabledesign_interiordesign:5e13482ea317670bfc797bb18bace359860a721a39b5bbcaa1ffcd241d62bca0\",\n",
    "        input=input\n",
    "    )\n",
    "\n",
    "    with open(output_path, \"wb\") as file:\n",
    "        file.write(output.read())\n",
    "\n",
    "    #=> output.png written to disk"
   ]
  },
  {
   "cell_type": "code",
   "execution_count": null,
   "metadata": {},
   "outputs": [],
   "source": []
  }
 ],
 "metadata": {
  "kernelspec": {
   "display_name": "hack25",
   "language": "python",
   "name": "python3"
  },
  "language_info": {
   "codemirror_mode": {
    "name": "ipython",
    "version": 3
   },
   "file_extension": ".py",
   "mimetype": "text/x-python",
   "name": "python",
   "nbconvert_exporter": "python",
   "pygments_lexer": "ipython3",
   "version": "3.12.9"
  }
 },
 "nbformat": 4,
 "nbformat_minor": 2
}
