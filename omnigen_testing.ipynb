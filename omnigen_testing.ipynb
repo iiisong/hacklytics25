{
 "cells": [
  {
   "cell_type": "code",
   "execution_count": 1,
   "metadata": {},
   "outputs": [
    {
     "name": "stderr",
     "output_type": "stream",
     "text": [
      "/home/zanger/anaconda3/envs/hack25/lib/python3.12/site-packages/tqdm/auto.py:21: TqdmWarning: IProgress not found. Please update jupyter and ipywidgets. See https://ipywidgets.readthedocs.io/en/stable/user_install.html\n",
      "  from .autonotebook import tqdm as notebook_tqdm\n"
     ]
    }
   ],
   "source": [
    "from OmniGen import OmniGenPipeline"
   ]
  },
  {
   "cell_type": "code",
   "execution_count": null,
   "metadata": {},
   "outputs": [
    {
     "name": "stdout",
     "output_type": "stream",
     "text": [
      "Model not found, downloading...\n"
     ]
    },
    {
     "name": "stderr",
     "output_type": "stream",
     "text": [
      "Fetching 10 files: 100%|██████████| 10/10 [16:02<00:00, 96.22s/it]\n"
     ]
    },
    {
     "name": "stdout",
     "output_type": "stream",
     "text": [
      "Downloaded model to /home/zanger/.cache/huggingface/hub/models--Shitao--OmniGen-v1/snapshots/58e249c7c7634423c0ba41c34a774af79aa87889\n"
     ]
    }
   ],
   "source": [
    "pipe = OmniGenPipeline.from_pretrained(\"Shitao/OmniGen-v1\")  \n",
    "# Note: Your local model path is also acceptable, such as 'pipe = OmniGenPipeline.from_pretrained(your_local_model_path)', where all files in your_local_model_path should be organized as https://huggingface.co/Shitao/OmniGen-v1/tree/main\n",
    "\n",
    "## Text to Image\n",
    "images = pipe(\n",
    "    prompt=\"A curly-haired man in a red shirt is drinking tea.\", \n",
    "    height=1024, \n",
    "    width=1024, \n",
    "    guidance_scale=2.5,\n",
    "    seed=0,\n",
    ")\n",
    "images[0].save(\"example_t2i.png\")  # save output PIL Image\n",
    "\n",
    "## Multi-modal to Image\n",
    "# In the prompt, we use the placeholder to represent the image. The image placeholder should be in the format of <img><|image_*|></img>\n",
    "# You can add multiple images in the input_images. Please ensure that each image has its placeholder. For example, for the list input_images [img1_path, img2_path], the prompt needs to have two placeholders: <img><|image_1|></img>, <img><|image_2|></img>.\n",
    "images = pipe(\n",
    "    prompt=\"A man in a black shirt is reading a book. The man is the right man in <img><|image_1|></img>.\",\n",
    "    input_images=[\"./imgs/test_cases/two_man.jpg\"],\n",
    "    height=1024, \n",
    "    width=1024,\n",
    "    guidance_scale=2.5, \n",
    "    img_guidance_scale=1.6,\n",
    "    seed=0,\n",
    "    use_kv_cache=False\n",
    ")\n",
    "images[0].save(\"example_ti2i.png\")  # save output PIL image"
   ]
  },
  {
   "cell_type": "code",
   "execution_count": null,
   "metadata": {},
   "outputs": [],
   "source": []
  }
 ],
 "metadata": {
  "kernelspec": {
   "display_name": "hack25",
   "language": "python",
   "name": "python3"
  },
  "language_info": {
   "codemirror_mode": {
    "name": "ipython",
    "version": 3
   },
   "file_extension": ".py",
   "mimetype": "text/x-python",
   "name": "python",
   "nbconvert_exporter": "python",
   "pygments_lexer": "ipython3",
   "version": "3.12.9"
  }
 },
 "nbformat": 4,
 "nbformat_minor": 2
}
